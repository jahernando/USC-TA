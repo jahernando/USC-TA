{
 "cells": [
  {
   "cell_type": "markdown",
   "id": "ba626afd",
   "metadata": {},
   "source": [
    "# Proposed exercise: Higgs to gamma, gamma.\n",
    "\n",
    "J.A Hernando, Febrero 2024"
   ]
  },
  {
   "cell_type": "code",
   "execution_count": 10,
   "id": "c3cd75ec",
   "metadata": {},
   "outputs": [],
   "source": [
    "%matplotlib inline\n",
    "%reload_ext autoreload\n",
    "%autoreload 2\n",
    "\n",
    "# numpy and matplotlib\n",
    "import numpy as np\n",
    "import pandas as pd\n",
    "import matplotlib\n",
    "import matplotlib.pyplot as plt\n",
    "import scipy.stats as stats\n",
    "import scipy.optimize as optimize\n",
    "\n",
    "# possible styles: ggplot (simplicity), bmh (scientify data). \n",
    "plt.style.context('seaborn-colorblind');\n"
   ]
  },
  {
   "cell_type": "markdown",
   "id": "50a39359",
   "metadata": {},
   "source": [
    "**Exercise**  Generate the data using the function in the next cell, *experiment()*. Fit the data to an exponential background plus a gaussian signal the get the number of signal events. You can use as a known parameters the exponential constant, $\\tau = 30$, the mean and sigma values of the gaussian $\\mu = 125, \\sigma = 1.8$. \n",
    "\n",
    "Estimate is the data is an observation of the signal, and estimate the CI at 90% CL. Otherwise indicate the upper limit CI on the number of events in the signal at 90 % CL.\n",
    "\n",
    "This exercise *mimics*, or is a simplified version, of the search $H \\to \\gamma + \\gamma$, donde by CMS and ATLAS during Run-I of the LHC. Considering this exercise as this search, the $x$ value is the invariant mass of the two gammas in an LHC interaction."
   ]
  },
  {
   "cell_type": "code",
   "execution_count": 8,
   "id": "05eb105e",
   "metadata": {},
   "outputs": [],
   "source": [
    "def experiment(size = 1, nbkg = 30000, nsig = 400, m0 = 100, tau = 30, msig = 125, ssig = 1.5):\n",
    "    \"\"\" generate data from a exponential + a gaussian signal\n",
    "    \"\"\"\n",
    "    exps = []\n",
    "    for i in range(size):\n",
    "        nb = stats.poisson.rvs(nbkg, size = 1)\n",
    "        xs = stats.expon.rvs(loc = m0, scale = tau, size = nb)\n",
    "        ns = stats.poisson.rvs(nsig, size = 1)\n",
    "        ys = msig + ssig * stats.norm.rvs(size = ns)\n",
    "        zs = np.array(list(xs) + list(ys))\n",
    "        np.random.shuffle(zs)\n",
    "        #sel = np.logical_and(zs >= m0, zs < m1)\n",
    "        #exps.append(zs[sel])\n",
    "        exps.append(zs)\n",
    "    if (size == 1): return exps[0]\n",
    "    return exps\n"
   ]
  },
  {
   "cell_type": "code",
   "execution_count": 9,
   "id": "a37271b3",
   "metadata": {},
   "outputs": [
    {
     "data": {
      "image/png": "[encoded data removed]",
      "text/plain": [
       "<Figure size 640x480 with 1 Axes>"
      ]
     },
     "metadata": {},
     "output_type": "display_data"
    }
   ],
   "source": [
    "zs = experiment()\n",
    "plt.hist(zs, range = (100, 150), bins = 100);"
   ]
  },
  {
   "cell_type": "markdown",
   "id": "90cf8f27",
   "metadata": {},
   "source": [
    "You can use different approaches to solve this exercise, for example, consider it as a counting experiment, or use the composite hypothesis testing"
   ]
  },
  {
   "cell_type": "markdown",
   "id": "0a97abe3",
   "metadata": {},
   "source": [
    "You can use the following pdf:\n",
    "\n",
    "$$\n",
    "g(x | \\mu) = g_{\\mathrm{pois}}(n | \\mu_1+\\mu_2) \\left[ (1-\\alpha) \\, g_{\\mathrm{exp}}(x | \\tau, \\tau_0 = 100) + \\alpha \\, g_{\\mathrm{gaus}}(x | \\mu, \\sigma) \\right]\n",
    "$$\n",
    "\n",
    "where, $\\mu = (\\mu_1, \\mu_2)$, and $\\mu_1$ is the number of background events, $\\mu_1$ the number of signal events, and\n",
    "\n",
    " * $\\alpha = \\frac{\\mu_2}{\\mu_1+\\mu_2}$, the fraction of signal events\n",
    " \n",
    " * $g_{\\mathrm{pois}(n | \\mu_1 + \\mu_2)}$, is a poisson pmd, where $n$ is the number of observed events, the size of the data\n",
    " \n",
    " * $g_{\\mathrm{exp}(x | \\tau, \\tau_0 = 100)}$ is as exponential pdf with parameter $\\tau$ and that it starts (its origin) at $\\tau_0 = 100$, in this case.\n",
    " \n",
    " * $g_{\\mathrm{gaus}}(x | \\mu, \\sigma)$ is a gaussian pdf with mean $\\mu$ and sigma $\\sigma$."
   ]
  }
 ],
 "metadata": {
  "kernelspec": {
   "display_name": "Python 3 (ipykernel)",
   "language": "python",
   "name": "python3"
  },
  "language_info": {
   "codemirror_mode": {
    "name": "ipython",
    "version": 3
   },
   "file_extension": ".py",
   "mimetype": "text/x-python",
   "name": "python",
   "nbconvert_exporter": "python",
   "pygments_lexer": "ipython3",
   "version": "3.9.13"
  }
 },
 "nbformat": 4,
 "nbformat_minor": 5
}
