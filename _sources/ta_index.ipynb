{
 "cells": [
  {
   "attachments": {},
   "cell_type": "markdown",
   "metadata": {
    "slideshow": {
     "slide_type": "slide"
    }
   },
   "source": [
    "# Index\n",
    " \n",
    " *Author: Jose A. Hernando*, January 2020\n",
    "\n",
    "*Instituto Galego de Altas Enerxías. Universidade de Santiago de Compostela, Spain.*\n",
    "Jose A. Hernando\n",
    "\n",
    "Enero 2020\n"
   ]
  },
  {
   "cell_type": "code",
   "execution_count": 1,
   "metadata": {
    "slideshow": {
     "slide_type": "fragment"
    }
   },
   "outputs": [
    {
     "name": "stdout",
     "output_type": "stream",
     "text": [
      " Last version  Mon Feb 27 16:24:45 2023\n"
     ]
    }
   ],
   "source": [
    "import time\n",
    "print(' Last version ', time.asctime() )"
   ]
  },
  {
   "cell_type": "markdown",
   "metadata": {
    "slideshow": {
     "slide_type": "slide"
    }
   },
   "source": [
    "**About **\n",
    "\n",
    "These lectures are about statistical method for rare event searches in Particle Physics using Python. \n",
    "\n",
    "They cover Hypothesis Testing and Confidence Intervals. They are based on the excellent lectures on statistics by Prosper ([lectures](https://indico.cern.ch/event/358542), [pdf](https://arxiv.org/pdf/1504.00945.pdf)), Cowan ([lectures](http://indico.cern.ch/event/173726/)) and Cramer ([lectures](https://indico.cern.ch/event/48425/)) given at CERN Academic Training.\n",
    "\n",
    "We will use the Python scientic toolkits, Matplotlib, Numpy, Scipy, that are distributed with Anaconda Python. \n",
    "\n",
    "A disclaimer: *I am neither a statistician nor a programmer!* "
   ]
  },
  {
   "cell_type": "markdown",
   "metadata": {
    "slideshow": {
     "slide_type": "slide"
    }
   },
   "source": [
    "## Introduction to these lectures\n",
    "\n",
    "Sometimes, we do an experiment to discover a new particle. \n",
    "\n",
    "If the particle exits in Nature we maybe find only few events. This is a **rare search**.\n",
    "\n",
    "Rare events usually follow poissonian distributions. But Statistics are nicely and friendly in the \"Gaussian domain\"."
   ]
  },
  {
   "cell_type": "markdown",
   "metadata": {
    "slideshow": {
     "slide_type": "slide"
    }
   },
   "source": [
    "\n",
    "If we 'observe' some rare events, then:\n",
    "\n",
    "When we could clain an **observation** or a **discovery** of the new particle? \n",
    "\n",
    "And if not, what is the **limit** in a given observable (i.e. the half lifetime) we could impose?\n",
    "\n",
    "In fact, *what does it mean discovery, observation, a limit, a confidence interval?*\n",
    "\n",
    "And, *how do we compute them from data?*\n",
    "\n",
    "These are the question we try to answer in these lectures."
   ]
  },
  {
   "cell_type": "markdown",
   "metadata": {
    "slideshow": {
     "slide_type": "slide"
    }
   },
   "source": [
    "We will discovery that we need to cover three issues:\n",
    "\n",
    "- Hypothesis Testing\n",
    "\n",
    "- Confidence Interval\n",
    "\n",
    "- Regression "
   ]
  },
  {
   "cell_type": "markdown",
   "metadata": {
    "slideshow": {
     "slide_type": "slide"
    }
   },
   "source": [
    "\n",
    "They seem different but they are not!\n",
    "\n",
    "We start with **simple hypothesis**, $H_1$ (i.e BSM) to be confronted with the current accepted hypothesis, $H_0$, (called null, i.e SM). \n",
    "\n",
    "Soon we realize that in general the alternative hypothesis depends on a **strength parameter** $\\mu$, that is, $H_1(\\mu)$. For example the half-lifetime of $\\beta\\beta0\\nu$ decay. This is called **composite hypothesis**.\n",
    "\n",
    "And then we are back to estimate the region of the parameter $\\mu$ \"compatible\" with data, $x$, in other words, to define some **confidence interval**, which in most cases implies to estimate the parameter, $\\hat{\\mu}$, that is **regression**."
   ]
  },
  {
   "cell_type": "markdown",
   "metadata": {
    "slideshow": {
     "slide_type": "slide"
    }
   },
   "source": [
    "The starting point is a bifurcation: either we follow a **Bayes** or a **Frequentist** path.\n",
    "\n",
    "Be a Bayesian usually implies do **integration** (sometime complicated integrals!).\n",
    "\n",
    "Be a frequentist implies usually either do regression (fits!) or do **simulations**. \n",
    "But thanks to the current computer power, we can play the **frequentist game**!\n",
    "\n",
    "In this lectures we will use Python (in fact, scipy, numpy and mathplotlib) for our (mostly) frequentist journey!\n",
    "\n",
    "But let's start with refreshing some basic ideas about probability density functions, likelihoods and posterior probabilities."
   ]
  },
  {
   "cell_type": "markdown",
   "metadata": {
    "slideshow": {
     "slide_type": "slide"
    }
   },
   "source": [
    "*** \n",
    "## Index\n",
    "\n",
    "* [Basic concepts](./ta_basic_concepts.ipynb)\n",
    "    \n",
    "* [Simple hypothesis testings](./ta_hypothesis_test.ipynb)\n",
    "\n",
    "* [Confidence Intervals](./ta_confidence_intervals.ipynb)\n",
    "\n",
    "* [Composite hypothesis testing](./ta_hypothesis_test_composite.ipynb)\n",
    "\n",
    "* [An example of composite hypothesis testing](./ta_hypothesis_test_composite_example.ipynb)"
   ]
  },
  {
   "cell_type": "markdown",
   "metadata": {
    "slideshow": {
     "slide_type": "slide"
    }
   },
   "source": [
    "***\n",
    "\n",
    "## Bibliography\n",
    "\n",
    "[1] \"Practical Statistic for LHC physicist,\" H. B. Prosper, CERN Academic Training Lectures (2015). https://indico.cern.ch/event/358542/ https://arxiv.org/pdf/1504.00945.pdf\n",
    "\n",
    "[2] \"Statistic for HEP,\" G. Cowan. CERN Academic Training Lectures (2012). http://indico.cern.ch/event/173726/\n",
    "\n",
    "[3] \"Statistics for Particle Physics,\" K. Cranmer, CERN Academic Training Lectures (2009). \n",
    "https://indico.cern.ch/event/48425/\n",
    "\n",
    "[4] \"Unified approach to the classical statistical analysis of small signals, \"G. J. Feldman and R. D. Cousins, Phys. Rev. D57 (1998) 3873. http://journals.aps.org/prd/abstract/10.1103/PhysRevD.57.3873\n",
    "\n",
    "[5] “Asymptotic formulae for likelihood-based tests of new physics,” Glen Cowan, Kyle Cranmer, Eilam Gross, Ofer Vitells. Eur. Phys. J. C71 1554 (2011). https://arxiv.org/abs/1007.1727"
   ]
  },
  {
   "cell_type": "markdown",
   "metadata": {
    "slideshow": {
     "slide_type": "subslide"
    }
   },
   "source": [
    "[6] \"Incorporating systematic uncertainties into an upper limit,\" R.D. Cousins and V.L. Highland. Nucl. Instrum. Meth. A320, 331 (1992). http://www.sciencedirect.com/science/article/pii/0168900292907945\n",
    "\n",
    "[7] \"Confidence Level Computation for Combining Searches with Small Statistics,\" T. Junk, Nucl. Instrum. Meth. A434, 435 (1999). https://arxiv.org/abs/hep-ex/9902006\n",
    "\n",
    "[8] \"How good are your fits? Unbinned multivariate goodness-of-fit tests in high energy physics,\" M. Willians, https://arxiv.org/abs/1006.3019\n",
    "\n",
    "[9] ROOT https://root.cern.ch, TMVA http://tmva.sourceforge.net, RooFit https://root.cern.ch/roofit\n",
    "\n",
    "[10] Anaconda https://anaconda.org, SciPy https://www.scipy.org, NumPy http://www.numpy.org, Scikit-learn http://scikit-learn.org/stable/, Matplotlib http://matplotlib.org"
   ]
  },
  {
   "cell_type": "markdown",
   "metadata": {},
   "source": [
    "[11] \"Lectures on Statistics in Theory: Prelude to Statistics in Practice\" B. Cousins, https://arxiv.org/abs/1807.05996\n",
    "\n",
    "[12] \"Statistics for physics\". D. Tonelli. Invisible School 2019, Canfranc."
   ]
  },
  {
   "cell_type": "code",
   "execution_count": null,
   "metadata": {},
   "outputs": [],
   "source": []
  }
 ],
 "metadata": {
  "anaconda-cloud": {},
  "celltoolbar": "Slideshow",
  "kernelspec": {
   "display_name": "Python 3",
   "language": "python",
   "name": "python3"
  },
  "language_info": {
   "codemirror_mode": {
    "name": "ipython",
    "version": 3
   },
   "file_extension": ".py",
   "mimetype": "text/x-python",
   "name": "python",
   "nbconvert_exporter": "python",
   "pygments_lexer": "ipython3",
   "version": "3.7.11"
  },
  "vscode": {
   "interpreter": {
    "hash": "43bf40b08b0c659beee69adf0e375d89f2700363cec8d5fb661c131f1f6d870f"
   }
  }
 },
 "nbformat": 4,
 "nbformat_minor": 1
}
