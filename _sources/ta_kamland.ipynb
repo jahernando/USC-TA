{
 "cells": [
  {
   "cell_type": "markdown",
   "metadata": {
    "nbpresent": {
     "id": "b0bdc0c5-2495-4e0e-9793-ed5facd68637"
    },
    "slideshow": {
     "slide_type": "slide"
    }
   },
   "source": [
    "# Analysis Techniques - Statistical Methods - Index\n",
    "\n",
    "\n",
    "## Universidade de Santiago \n",
    "\n",
    "---\n",
    "\n",
    "## Hypothesis testing composite, KamLAND-Zen example\n",
    "\n",
    "\n",
    "*Author: Jose A. Hernando*, February 2021\n",
    "\n",
    "*Instituto Galego de Altas Enerxías. Universidade de Santiago de Compostela, Spain.*"
   ]
  },
  {
   "cell_type": "code",
   "execution_count": 1,
   "metadata": {
    "nbpresent": {
     "id": "b2443ab4-16fc-4851-bb80-c90a0c6d6dee"
    },
    "slideshow": {
     "slide_type": "fragment"
    }
   },
   "outputs": [
    {
     "name": "stdout",
     "output_type": "stream",
     "text": [
      " Last Execution  Wed Feb 24 17:17:50 2021\n"
     ]
    }
   ],
   "source": [
    "import time\n",
    "print( ' Last Execution ', time.asctime())"
   ]
  },
  {
   "cell_type": "code",
   "execution_count": 2,
   "metadata": {
    "nbpresent": {
     "id": "ad5486f8-4654-482a-b15c-f0d4e5c76937"
    },
    "slideshow": {
     "slide_type": "subslide"
    }
   },
   "outputs": [],
   "source": [
    "# general imports\n",
    "%matplotlib inline\n",
    "%reload_ext autoreload\n",
    "%autoreload 2\n",
    " \n",
    "# numpy and matplotlib\n",
    "import numpy as np\n",
    "import pandas as pd\n",
    "import matplotlib.pyplot as plt\n",
    "\n",
    "import scipy.stats    as stats\n",
    "import scipy.optimize as optimize\n",
    "\n",
    "\n",
    "plt.style.context('seaborn-colorblind');"
   ]
  },
  {
   "cell_type": "markdown",
   "metadata": {
    "slideshow": {
     "slide_type": "slide"
    }
   },
   "source": [
    "## Introduction\n",
    "\n",
    "\n",
    "Use KamLAND-Zen article as example for composite hypothesis testing"
   ]
  },
  {
   "cell_type": "markdown",
   "metadata": {
    "slideshow": {
     "slide_type": "slide"
    }
   },
   "source": [
    "**Exercise**: Consider the expected bacground events and signal events in bins of energy in the RoI of the KamLAND-Zen experiment in Fig 2-b) [PRL-117](https://arxiv.org/abs/1605.02889). Compute the p-value of H0, the 90% CL F.C interval for the strength parameter $\\mu$.\n",
    "\n",
    "\n",
    "*Guide:* \n",
    "\n",
    "From Fig 2-b) Period II we can extract the following number of background, signal and observed events.\n",
    "\n",
    "*b* = [4.0, 2.0, 1.6, 1.0, 0.8, 0.7, 0.6, 0.5, 0.5, 0.5, 0.6, 0.6, 0.8, 1.1]\n",
    "\n",
    "*s* = [0.2, 0.4, 0.5, 0.6, 0.5, 0.4, 0.2, 0.1, 0.1, 0.1, 0.0, 0.0, 0.0, 0.0]\n",
    "\n",
    "*x* = [4.0, 0.0, 2.0, 4.0, 0.0, 0.0, 0.0, 1.0, 0.0, 1.0, 2.0, 2.0, 1.0, 0.0]"
   ]
  },
  {
   "cell_type": "code",
   "execution_count": 3,
   "metadata": {
    "slideshow": {
     "slide_type": "skip"
    }
   },
   "outputs": [],
   "source": [
    "b  = [4.0, 2.0, 1.6, 1.0, 0.8, 0.7, 0.6, 0.5, 0.5, 0.5, 0.6, 0.6, 0.8, 1.1]\n",
    "s  = [0.2, 0.4, 0.5, 0.6, 0.5, 0.4, 0.2, 0.1, 0.1, 0.0, 0.0, 0.0, 0.0, 0.0]\n",
    "x0 = [4.0, 0.0, 2.0, 4.0, 0.0, 0.0, 0.0, 1.0, 0.0, 1.0, 2.0, 2.0, 1.0, 0.0]"
   ]
  },
  {
   "cell_type": "code",
   "execution_count": 4,
   "metadata": {},
   "outputs": [],
   "source": [
    "class NBinsStats:\n",
    "    \n",
    "    def __init__(self, b, s):\n",
    "        self.b = np.copy(b)\n",
    "        self.s = np.copy(s)\n",
    "        return\n",
    "        \n",
    "    def rvs(self, mu = 0., size = 1):\n",
    "        xs = [stats.poisson.rvs(bi + mu * si, size = size) for bi, si in zip(self.b, self.s)]\n",
    "        ys = [[xi[j] for xi in xs] for j in range(size)]\n",
    "        return  ys\n",
    "    \n",
    "    def llike(self, n, mu = 0.):\n",
    "        y =  np.sum([stats.poisson.logpmf(ni, bi + mu * si) for ni, bi, si in zip(n, b, s)])\n",
    "        return y\n",
    "\n",
    "    def muhat(self, x):\n",
    "        fun = lambda mu: -2 * self.llike(x, mu)\n",
    "        res = optimize.minimize(fun, 1., bounds = ((0., np.inf),))\n",
    "        mhat = res.x[0] if res.success else 0.\n",
    "        return mhat\n",
    "    \n",
    "    def tmu(self, x, mu, muhat = None):\n",
    "        mhat = self.muhat(x) if muhat is None else muhat\n",
    "        ts   = -2 * self.llike(x, mu) + 2 * self.llike(x, mhat)\n",
    "        return ts\n",
    "        \n",
    "    \n",
    "def pvalue(q, qs):\n",
    "    sel = qs >= q\n",
    "    return (np.sum(sel)/len(qs))\n"
   ]
  },
  {
   "cell_type": "markdown",
   "metadata": {},
   "source": [
    "### compute the espected mu value for the data"
   ]
  },
  {
   "cell_type": "code",
   "execution_count": 5,
   "metadata": {},
   "outputs": [
    {
     "name": "stdout",
     "output_type": "stream",
     "text": [
      "mu_hat(x_0) = 0.2928\n"
     ]
    }
   ],
   "source": [
    "nbins = NBinsStats(b, s)\n",
    "\n",
    "muhat = nbins.muhat(x0)\n",
    "print('mu_hat(x_0) = {:6.4f}'.format(muhat))"
   ]
  },
  {
   "cell_type": "markdown",
   "metadata": {},
   "source": [
    "### Scan on $ -2 \\Delta \\log \\mathcal{L}$"
   ]
  },
  {
   "cell_type": "code",
   "execution_count": 6,
   "metadata": {},
   "outputs": [
    {
     "data": {
      "image/png": "[encoded data removed]",
      "text/plain": [
       "<Figure size 432x288 with 1 Axes>"
      ]
     },
     "metadata": {
      "needs_background": "light"
     },
     "output_type": "display_data"
    }
   ],
   "source": [
    "mus = np.linspace(0., 3., 100)\n",
    "plt.plot(mus, [nbins.tmu(x0, mu, muhat) for mu in mus]);\n",
    "plt.plot((0., 3.), (1.0, 1.0), label = '68 %')\n",
    "plt.plot((0., 3.), (2.7, 2.7), label = '90 %')\n",
    "plt.grid(); plt.legend();\n",
    "plt.ylabel(r\"$-2 \\Delta \\, \\log \\, \\mathcal{L}(x|\\mu)$\"); plt.xlabel(r'$\\mu$', fontsize = 14);"
   ]
  },
  {
   "cell_type": "markdown",
   "metadata": {},
   "source": [
    "### Compute the p-value of the null hypothesis $(\\mu_0 = 0)$\n",
    "\n",
    "   * generate m-experiment with $\\mu_0$, $\\{ x\\}_{\\mu_0}$\n",
    "   \n",
    "   * compute $\\hat{\\mu}$ for each experiment, $\\{\\hat{\\mu}(x) \\}_{\\mu_0}$\n",
    "   \n",
    "   * compute the distribution of FC test-statistics for $\\mu_0$, $\\{ q_0(x)\\}_{\\mu_0}$\n",
    "   \n",
    "   * compute the FC test-estatiscis for the observation $x_0$ and $\\mu_0$, $q_0$.\n",
    "   \n",
    "   * compute the p-value, the fraction of experiments with equal or worse test-estatistic than the data."
   ]
  },
  {
   "cell_type": "code",
   "execution_count": 7,
   "metadata": {},
   "outputs": [],
   "source": [
    "### Generate n-experiments with hipothesis mu = 0\n",
    "mu0     = 0.\n",
    "size    = 10000\n",
    "x0s    = nbins.rvs(mu = mu0, size = size)"
   ]
  },
  {
   "cell_type": "code",
   "execution_count": 8,
   "metadata": {},
   "outputs": [
    {
     "name": "stdout",
     "output_type": "stream",
     "text": [
      "777 [3, 2, 3, 1, 1, 0, 0, 1, 0, 1, 1, 4, 0, 1]\n"
     ]
    },
    {
     "data": {
      "image/png": "[encoded data removed]",
      "text/plain": [
       "<Figure size 432x288 with 1 Axes>"
      ]
     },
     "metadata": {
      "needs_background": "light"
     },
     "output_type": "display_data"
    }
   ],
   "source": [
    "i = int(np.random.choice(range(size), 1)[0])\n",
    "print(i, x0s[i])\n",
    "plt.plot(b     , marker = 's', ls = '', alpha = 0.5, label = 'bkg');\n",
    "plt.plot(s     , marker = '^', ls = '', alpha = 0.5, label = 'signal');\n",
    "plt.plot(x0s[i], marker = 'o', ls = '', alpha = 0.5, label = 'rv-experiment');\n",
    "plt.grid(); plt.legend(); "
   ]
  },
  {
   "cell_type": "code",
   "execution_count": 9,
   "metadata": {},
   "outputs": [],
   "source": [
    "# compute the best-estimate value mu for the random experiments with mu0\n",
    "muhats = [nbins.muhat(xi) for xi in x0s]"
   ]
  },
  {
   "cell_type": "code",
   "execution_count": 10,
   "metadata": {},
   "outputs": [
    {
     "data": {
      "image/png": "[encoded data removed]",
      "text/plain": [
       "<Figure size 432x288 with 1 Axes>"
      ]
     },
     "metadata": {
      "needs_background": "light"
     },
     "output_type": "display_data"
    }
   ],
   "source": [
    "plt.hist(muhats, 100, histtype = 'step', density = True); \n",
    "plt.yscale('log'); plt.grid();\n",
    "plt.xlabel(r'$\\hat{\\mu}(x), \\;\\; \\mu = 0$');"
   ]
  },
  {
   "cell_type": "code",
   "execution_count": 11,
   "metadata": {},
   "outputs": [],
   "source": [
    "## compute the FC test-statiscits for the experiments with mu_0\n",
    "q0s = [nbins.tmu(xi, mu0, muhat) for xi, muhat in zip(x0s, muhats)]"
   ]
  },
  {
   "cell_type": "code",
   "execution_count": 12,
   "metadata": {},
   "outputs": [
    {
     "data": {
      "image/png": "[encoded data removed]",
      "text/plain": [
       "<Figure size 432x288 with 1 Axes>"
      ]
     },
     "metadata": {
      "needs_background": "light"
     },
     "output_type": "display_data"
    }
   ],
   "source": [
    "counts, bins, _ = plt.hist(q0s, 100, histtype = 'step', density = True); plt.yscale('log');\n",
    "xbins  = 0.5* (bins[:-1] + bins[1:])\n",
    "factor = bins[1] - bins[0]\n",
    "chi2   = stats.chi2(1)\n",
    "plt.plot(xbins, 0.5 * chi2.pdf(xbins), color = 'black', label = r'$\\chi^2$');\n",
    "plt.grid(); plt.legend();\n",
    "plt.xlabel(r'$q_0(x), \\;\\; \\mu = 0$');"
   ]
  },
  {
   "cell_type": "markdown",
   "metadata": {},
   "source": [
    "The agreement between the FC test-stats and the half $\\chi^2$ indicates that we are under the Wilk's theoreme regime."
   ]
  },
  {
   "cell_type": "markdown",
   "metadata": {},
   "source": [
    "### Compute the p-value of the $H_0$ hypothesis"
   ]
  },
  {
   "cell_type": "code",
   "execution_count": 13,
   "metadata": {},
   "outputs": [
    {
     "name": "stdout",
     "output_type": "stream",
     "text": [
      "q0         : 0.11828\n",
      "H0 p-value : 0.34250\n"
     ]
    }
   ],
   "source": [
    "q0 = nbins.tmu(x0, mu = mu0)\n",
    "p0 = pvalue(q0, q0s)\n",
    "print('q0         : {:6.5f}'.format(q0))\n",
    "print('H0 p-value : {:6.5f}'.format(p0))"
   ]
  },
  {
   "cell_type": "markdown",
   "metadata": {},
   "source": [
    "### Compute the 90 % C.I"
   ]
  },
  {
   "cell_type": "code",
   "execution_count": 14,
   "metadata": {},
   "outputs": [],
   "source": [
    "mu1  = 2.1\n",
    "size = 10000\n",
    "x1s  = nbins.rvs(mu = mu1, size = size)"
   ]
  },
  {
   "cell_type": "code",
   "execution_count": 15,
   "metadata": {},
   "outputs": [],
   "source": [
    "mu1hats = [nbins.muhat(xi) for xi in x1s]"
   ]
  },
  {
   "cell_type": "code",
   "execution_count": 16,
   "metadata": {},
   "outputs": [
    {
     "data": {
      "image/png": "[encoded data removed]",
      "text/plain": [
       "<Figure size 432x288 with 1 Axes>"
      ]
     },
     "metadata": {
      "needs_background": "light"
     },
     "output_type": "display_data"
    }
   ],
   "source": [
    "plt.hist(mu1hats, 100, histtype = 'step', density = True, label = r'$\\mu $ {:6.2f}'.format(mu1));\n",
    "plt.xlabel(r'$\\hat{\\mu}$'); plt.grid(); plt.legend();"
   ]
  },
  {
   "cell_type": "code",
   "execution_count": 17,
   "metadata": {},
   "outputs": [],
   "source": [
    "## compute the FC test-statiscits for the experiments with mu_0\n",
    "q1s   = [nbins.tmu(xi, mu1, muhat) for xi, muhat in zip(x1s, mu1hats)]"
   ]
  },
  {
   "cell_type": "code",
   "execution_count": 18,
   "metadata": {},
   "outputs": [
    {
     "data": {
      "image/png": "[encoded data removed]",
      "text/plain": [
       "<Figure size 432x288 with 1 Axes>"
      ]
     },
     "metadata": {
      "needs_background": "light"
     },
     "output_type": "display_data"
    }
   ],
   "source": [
    "counts, bins, _ = plt.hist(q1s, 100, histtype = 'step', density = True); plt.yscale('log');\n",
    "xbins  = 0.5* (bins[:-1] + bins[1:])\n",
    "factor = bins[1] - bins[0]\n",
    "chi2   = stats.chi2(1)\n",
    "plt.plot(xbins,  chi2.pdf(xbins), color = 'black', label = r'$\\chi^2$');\n",
    "plt.grid(); plt.legend();\n",
    "plt.xlabel(r'$q_1(x)$');"
   ]
  },
  {
   "cell_type": "code",
   "execution_count": 19,
   "metadata": {},
   "outputs": [
    {
     "name": "stdout",
     "output_type": "stream",
     "text": [
      "2.6770561914108697\n",
      "0.111\n"
     ]
    }
   ],
   "source": [
    "q1 = nbins.tmu(x0, mu1)\n",
    "print(q1)\n",
    "p1 = pvalue(q1, q1s)\n",
    "print(p1)"
   ]
  },
  {
   "cell_type": "code",
   "execution_count": 20,
   "metadata": {},
   "outputs": [
    {
     "name": "stdout",
     "output_type": "stream",
     "text": [
      "mu1        : 2.10000\n",
      "q1         : 2.67706\n",
      "H1 p-value : 0.11100\n"
     ]
    }
   ],
   "source": [
    "print('mu1        : {:6.5f}'.format(mu1))\n",
    "print('q1         : {:6.5f}'.format(q1))\n",
    "print('H1 p-value : {:6.5f}'.format(p1))"
   ]
  },
  {
   "cell_type": "markdown",
   "metadata": {},
   "source": [
    "The $\\mu$ strengthparameter CI at 90% CL using F.C is: $[0, \\; 2.1]$"
   ]
  },
  {
   "cell_type": "markdown",
   "metadata": {},
   "source": [
    "### Compute the exclusion of $\\mu$"
   ]
  },
  {
   "cell_type": "code",
   "execution_count": 21,
   "metadata": {},
   "outputs": [],
   "source": [
    "q1s   = np.array(q1s); mu1hats = np.array(mu1hats)\n",
    "q1s_u = np.copy(q1s)\n",
    "q1s_u[mu1hats > mu1] = 0"
   ]
  },
  {
   "cell_type": "code",
   "execution_count": 22,
   "metadata": {},
   "outputs": [
    {
     "name": "stdout",
     "output_type": "stream",
     "text": [
      "mu1        : 2.10000\n",
      "q1         : 2.67706\n",
      "H1 p-value : 0.06310\n"
     ]
    }
   ],
   "source": [
    "p1 = pvalue(q1, q1s_u)\n",
    "print('mu1        : {:6.5f}'.format(mu1))\n",
    "print('q1         : {:6.5f}'.format(q1))\n",
    "print('H1 p-value : {:6.5f}'.format(p1))"
   ]
  },
  {
   "cell_type": "markdown",
   "metadata": {},
   "source": [
    "Strength parameter $\\mu = 2.1$ is excluded at 0.96 % CL"
   ]
  },
  {
   "cell_type": "markdown",
   "metadata": {},
   "source": [
    "### Using single hypothesis for $\\mu_0 = 0, \\; \\mu_1 = 2.1$"
   ]
  },
  {
   "cell_type": "code",
   "execution_count": 27,
   "metadata": {},
   "outputs": [],
   "source": [
    "mu0, mu1 = 0., 2.1\n",
    "sq0s = [nbins.tmu(xi, mu0, mu1) for xi in x0s]\n",
    "sq1s = [nbins.tmu(xi, mu0, mu1) for xi in x1s] "
   ]
  },
  {
   "cell_type": "code",
   "execution_count": 28,
   "metadata": {},
   "outputs": [
    {
     "data": {
      "text/plain": [
       "[<matplotlib.lines.Line2D at 0x1a1cea5b90>]"
      ]
     },
     "execution_count": 28,
     "metadata": {},
     "output_type": "execute_result"
    },
    {
     "data": {
      "image/png": "[encoded data removed]",
      "text/plain": [
       "<Figure size 432x288 with 1 Axes>"
      ]
     },
     "metadata": {
      "needs_background": "light"
     },
     "output_type": "display_data"
    }
   ],
   "source": [
    "plt.hist(sq0s, 100, label = r'$H_0$', density = True, histtype = 'step')\n",
    "plt.hist(sq1s, 100, label = r'$H_1$', density = True, histtype = 'step');\n",
    "plt.grid(); plt.legend()\n",
    "\n",
    "sq0  = nbins.tmu(x0, mu0, mu1)\n",
    "plt.plot((sq0, sq0), (0, 0.15), marker = '*', ms = 10)"
   ]
  },
  {
   "cell_type": "code",
   "execution_count": 29,
   "metadata": {},
   "outputs": [
    {
     "name": "stdout",
     "output_type": "stream",
     "text": [
      "q0         : -2.55878\n",
      "H0 p-value : 0.37960\n",
      "H1 p-value : 0.06550\n"
     ]
    }
   ],
   "source": [
    "p0 = pvalue(sq0, sq0s)\n",
    "p1 = 1. - pvalue(sq0, sq1s)\n",
    "print('q0         : {:6.5f}'.format(sq0))\n",
    "print('H0 p-value : {:6.5f}'.format(p0))\n",
    "print('H1 p-value : {:6.5f}'.format(p1))"
   ]
  },
  {
   "cell_type": "markdown",
   "metadata": {},
   "source": [
    "We have validated that both methods give the same result in terms of p-values for $H_0(\\mu = 0)$ and $H_1(\\mu = 2.1)$."
   ]
  },
  {
   "cell_type": "code",
   "execution_count": null,
   "metadata": {},
   "outputs": [],
   "source": []
  }
 ],
 "metadata": {
  "anaconda-cloud": {},
  "celltoolbar": "Slideshow",
  "kernelspec": {
   "display_name": "Python 3",
   "language": "python",
   "name": "python3"
  },
  "language_info": {
   "codemirror_mode": {
    "name": "ipython",
    "version": 3
   },
   "file_extension": ".py",
   "mimetype": "text/x-python",
   "name": "python",
   "nbconvert_exporter": "python",
   "pygments_lexer": "ipython3",
   "version": "3.7.9"
  },
  "nbpresent": {
   "slides": {
    "03c973b9-a933-4963-883a-b404400e0f61": {
     "id": "03c973b9-a933-4963-883a-b404400e0f61",
     "prev": "abd277d4-bebd-459a-83a0-f2c3e9f41bbe",
     "regions": {
      "a0a32193-b2de-45eb-accf-271aeff98d01": {
       "attrs": {
        "height": 0.8,
        "width": 0.8,
        "x": 0.1,
        "y": 0.1
       },
       "content": {
        "cell": "fd167f21-280d-4c3f-ba5c-01cd6a1ee4f2",
        "part": "whole"
       },
       "id": "a0a32193-b2de-45eb-accf-271aeff98d01"
      }
     }
    },
    "05b90ccd-613d-48c8-8349-76052e91d209": {
     "id": "05b90ccd-613d-48c8-8349-76052e91d209",
     "prev": "53c3fd3a-bb2e-4a1d-a8d0-7f77aa481908",
     "regions": {}
    },
    "0625507a-b45b-4bd4-ae49-dc84776d0d12": {
     "id": "0625507a-b45b-4bd4-ae49-dc84776d0d12",
     "prev": "03c973b9-a933-4963-883a-b404400e0f61",
     "regions": {
      "0db85c93-0528-4078-b2e6-9012b2e79e0b": {
       "attrs": {
        "height": 0.8,
        "width": 0.8,
        "x": 0.1,
        "y": 0.1
       },
       "content": {
        "cell": "f3a7d2d2-e581-4e1f-bf31-fda81c790d69",
        "part": "whole"
       },
       "id": "0db85c93-0528-4078-b2e6-9012b2e79e0b"
      }
     }
    },
    "0af600d2-5e75-4ef0-9419-637561778a9b": {
     "id": "0af600d2-5e75-4ef0-9419-637561778a9b",
     "prev": "05b90ccd-613d-48c8-8349-76052e91d209",
     "regions": {
      "c36eeceb-a679-4e0c-82cf-16f8ee719b08": {
       "attrs": {
        "height": 0.8,
        "width": 0.8,
        "x": 0.1,
        "y": 0.1
       },
       "content": {
        "cell": "8b1a3799-c81d-4bc0-86e1-3fb15503aa79",
        "part": "whole"
       },
       "id": "c36eeceb-a679-4e0c-82cf-16f8ee719b08"
      }
     }
    },
    "14fd8390-cb3c-4721-92f4-1b1d5100702e": {
     "id": "14fd8390-cb3c-4721-92f4-1b1d5100702e",
     "prev": null,
     "regions": {
      "c264fd1f-0c8f-4514-a5e7-c71c35568354": {
       "attrs": {
        "height": 0.8,
        "width": 0.8,
        "x": 0.1,
        "y": 0.1
       },
       "content": {
        "cell": "b0bdc0c5-2495-4e0e-9793-ed5facd68637",
        "part": "whole"
       },
       "id": "c264fd1f-0c8f-4514-a5e7-c71c35568354"
      }
     }
    },
    "1d02906a-e06a-4a1d-a0c0-988f2b6a3645": {
     "id": "1d02906a-e06a-4a1d-a0c0-988f2b6a3645",
     "prev": "cd7f6e46-54bb-400e-8ed0-4b99dafbef7e",
     "regions": {
      "0b861c39-abcc-4ce3-be33-0d4383855383": {
       "attrs": {
        "height": 0.8,
        "width": 0.8,
        "x": 0.1,
        "y": 0.1
       },
       "content": {
        "cell": "6bed7def-d8e1-4f01-ba39-d699c034fa8d",
        "part": "whole"
       },
       "id": "0b861c39-abcc-4ce3-be33-0d4383855383"
      }
     }
    },
    "26d299d9-0cb9-468a-a646-4c99648ef8f5": {
     "id": "26d299d9-0cb9-468a-a646-4c99648ef8f5",
     "prev": "473bde1a-8e4f-44c8-9570-b2f2eaf39991",
     "regions": {
      "c6fd86da-0742-44f5-8676-2a36788ddbed": {
       "attrs": {
        "height": 0.8,
        "width": 0.8,
        "x": 0.1,
        "y": 0.1
       },
       "content": {
        "cell": "ec123021-6415-46a8-b79f-508e0e25f28d",
        "part": "whole"
       },
       "id": "c6fd86da-0742-44f5-8676-2a36788ddbed"
      }
     }
    },
    "28900538-796d-4bd2-921b-00567d8adbe8": {
     "id": "28900538-796d-4bd2-921b-00567d8adbe8",
     "prev": "d9efacc5-46f1-4913-bbbe-59aef63a7e5e",
     "regions": {
      "fd2aff00-5f4e-47f1-929a-16918f044651": {
       "attrs": {
        "height": 0.8,
        "width": 0.8,
        "x": 0.1,
        "y": 0.1
       },
       "content": {
        "cell": "7a51d248-ab99-4db8-8cad-f38f21a9fd3d",
        "part": "whole"
       },
       "id": "fd2aff00-5f4e-47f1-929a-16918f044651"
      }
     }
    },
    "30524962-33e0-442d-a166-8385e3539149": {
     "id": "30524962-33e0-442d-a166-8385e3539149",
     "prev": "4d0fd687-7494-42db-8031-b8aa4f6e8958",
     "regions": {
      "cef579af-c191-4420-9e6d-53188cbb95d1": {
       "attrs": {
        "height": 0.8,
        "width": 0.8,
        "x": 0.1,
        "y": 0.1
       },
       "content": {
        "cell": "cd3172c0-1283-4ad4-a4e5-3ed178a53c6a",
        "part": "whole"
       },
       "id": "cef579af-c191-4420-9e6d-53188cbb95d1"
      }
     }
    },
    "34a1ce81-4b64-40a7-83e8-300aa2aedcc4": {
     "id": "34a1ce81-4b64-40a7-83e8-300aa2aedcc4",
     "prev": "670664b7-a1e1-4d66-8e3f-5d3723286f87",
     "regions": {
      "46ddc3b7-2c51-489b-a95e-9017b70c4c94": {
       "attrs": {
        "height": 0.8,
        "width": 0.8,
        "x": 0.1,
        "y": 0.1
       },
       "content": {
        "cell": "19d7e813-cdc2-4ec7-8c43-f8d22cf8ba4e",
        "part": "whole"
       },
       "id": "46ddc3b7-2c51-489b-a95e-9017b70c4c94"
      }
     }
    },
    "3945d6f7-bc6d-4e9b-865f-f8f513acaa65": {
     "id": "3945d6f7-bc6d-4e9b-865f-f8f513acaa65",
     "prev": "bb5a2ac7-d69b-472f-80f1-0b22b500d6b1",
     "regions": {
      "0536af45-f585-4867-ab8c-b7d492dbca20": {
       "attrs": {
        "height": 0.8,
        "width": 0.8,
        "x": 0.1,
        "y": 0.1
       },
       "content": {
        "cell": "72dc290c-5abc-481d-ab04-03bfba7f0f04",
        "part": "whole"
       },
       "id": "0536af45-f585-4867-ab8c-b7d492dbca20"
      }
     }
    },
    "473bde1a-8e4f-44c8-9570-b2f2eaf39991": {
     "id": "473bde1a-8e4f-44c8-9570-b2f2eaf39991",
     "prev": "8af4880d-b773-4819-a3a7-20c3e747bd38",
     "regions": {
      "beffdeaa-4ee0-4dd8-a621-e2d31c4f1c0c": {
       "attrs": {
        "height": 0.8,
        "width": 0.8,
        "x": 0.1,
        "y": 0.1
       },
       "content": {
        "cell": "910b5fdd-8bd7-4c24-a2e7-fcd10c64c805",
        "part": "whole"
       },
       "id": "beffdeaa-4ee0-4dd8-a621-e2d31c4f1c0c"
      }
     }
    },
    "4d0fd687-7494-42db-8031-b8aa4f6e8958": {
     "id": "4d0fd687-7494-42db-8031-b8aa4f6e8958",
     "prev": "5f00c622-7e01-465c-af95-0e3140f41964",
     "regions": {
      "fde7aa54-b253-473a-9d8f-290b3f381df4": {
       "attrs": {
        "height": 0.8,
        "width": 0.8,
        "x": 0.1,
        "y": 0.1
       },
       "content": {
        "cell": "f33c702a-6dda-450b-bd04-2d63c4955e21",
        "part": "whole"
       },
       "id": "fde7aa54-b253-473a-9d8f-290b3f381df4"
      }
     }
    },
    "520b787c-80d0-468e-a886-a7655a396da5": {
     "id": "520b787c-80d0-468e-a886-a7655a396da5",
     "prev": "52d6cfb9-fbda-441a-9a56-b3a448b2a716",
     "regions": {
      "96a741ba-d88f-4bf7-8f88-caf58d929454": {
       "attrs": {
        "height": 0.8,
        "width": 0.8,
        "x": 0.1,
        "y": 0.1
       },
       "content": {
        "cell": "414f4b85-d8d8-4d44-91e8-a81b2f3b6aff",
        "part": "whole"
       },
       "id": "96a741ba-d88f-4bf7-8f88-caf58d929454"
      }
     }
    },
    "52d6cfb9-fbda-441a-9a56-b3a448b2a716": {
     "id": "52d6cfb9-fbda-441a-9a56-b3a448b2a716",
     "prev": "ff5d273d-624d-4084-9245-d2e63d652d3f",
     "regions": {
      "eca9eec6-f213-4ddf-9b8f-acf70e3855c4": {
       "attrs": {
        "height": 0.8,
        "width": 0.8,
        "x": 0.1,
        "y": 0.1
       },
       "content": {
        "cell": "039cac1a-ccef-4bb5-9406-cc1450a1a1a3",
        "part": "whole"
       },
       "id": "eca9eec6-f213-4ddf-9b8f-acf70e3855c4"
      }
     }
    },
    "53c3fd3a-bb2e-4a1d-a8d0-7f77aa481908": {
     "id": "53c3fd3a-bb2e-4a1d-a8d0-7f77aa481908",
     "prev": "14fd8390-cb3c-4721-92f4-1b1d5100702e",
     "regions": {
      "2e862ace-1d3a-40d3-91b8-8adfb48f9b42": {
       "attrs": {
        "height": 0.8,
        "width": 0.8,
        "x": 0.1,
        "y": 0.1
       },
       "content": {
        "cell": "ad5486f8-4654-482a-b15c-f0d4e5c76937",
        "part": "whole"
       },
       "id": "2e862ace-1d3a-40d3-91b8-8adfb48f9b42"
      }
     }
    },
    "5f00c622-7e01-465c-af95-0e3140f41964": {
     "id": "5f00c622-7e01-465c-af95-0e3140f41964",
     "prev": "28900538-796d-4bd2-921b-00567d8adbe8",
     "regions": {
      "865db23e-09b3-41e7-bae9-d5f2c5d767ed": {
       "attrs": {
        "height": 0.8,
        "width": 0.8,
        "x": 0.1,
        "y": 0.1
       },
       "content": {
        "cell": "fd994b19-bfe4-47e4-9b0b-b0608e652de4",
        "part": "whole"
       },
       "id": "865db23e-09b3-41e7-bae9-d5f2c5d767ed"
      }
     }
    },
    "670664b7-a1e1-4d66-8e3f-5d3723286f87": {
     "id": "670664b7-a1e1-4d66-8e3f-5d3723286f87",
     "prev": "852688d5-90bc-41f3-8a37-152ef555b37b",
     "regions": {
      "534a18b1-a167-4b2e-9ace-6b1215080b4e": {
       "attrs": {
        "height": 0.8,
        "width": 0.8,
        "x": 0.1,
        "y": 0.1
       },
       "content": {
        "cell": "dca918e6-eeda-49a5-bf63-7d7e4593a8b4",
        "part": "whole"
       },
       "id": "534a18b1-a167-4b2e-9ace-6b1215080b4e"
      }
     }
    },
    "6754d1c7-53db-4045-9401-7322a90ae611": {
     "id": "6754d1c7-53db-4045-9401-7322a90ae611",
     "prev": "d1521f3d-2262-40a0-a5e1-88b0e16506e5",
     "regions": {
      "4492173d-93f2-479d-8d92-64643e7a9d51": {
       "attrs": {
        "height": 0.8,
        "width": 0.8,
        "x": 0.1,
        "y": 0.1
       },
       "content": {
        "cell": "0da93dea-2f38-407a-a1da-d95868af5553",
        "part": "whole"
       },
       "id": "4492173d-93f2-479d-8d92-64643e7a9d51"
      }
     }
    },
    "68f9f3ab-a415-4fd2-9796-a2885e3ecd3d": {
     "id": "68f9f3ab-a415-4fd2-9796-a2885e3ecd3d",
     "prev": "9e0cd59b-974d-40e3-9833-2b4997889623",
     "regions": {
      "6027082b-baf6-4a01-95d8-7da144824014": {
       "attrs": {
        "height": 0.8,
        "width": 0.8,
        "x": 0.1,
        "y": 0.1
       },
       "content": {
        "cell": "64460482-4923-4181-a234-2b0826f24577",
        "part": "whole"
       },
       "id": "6027082b-baf6-4a01-95d8-7da144824014"
      }
     }
    },
    "6f2a0112-3509-4daa-b075-857bf2579c21": {
     "id": "6f2a0112-3509-4daa-b075-857bf2579c21",
     "prev": "ae69a1c3-b34c-4834-a24d-9080490a066b",
     "regions": {
      "2e3711ab-46c8-41e6-8eb2-2c3f04083a96": {
       "attrs": {
        "height": 0.8,
        "width": 0.8,
        "x": 0.1,
        "y": 0.1
       },
       "content": {
        "cell": "614260a3-f2b7-41ac-bab7-3f27221c62c3",
        "part": "whole"
       },
       "id": "2e3711ab-46c8-41e6-8eb2-2c3f04083a96"
      }
     }
    },
    "852688d5-90bc-41f3-8a37-152ef555b37b": {
     "id": "852688d5-90bc-41f3-8a37-152ef555b37b",
     "prev": "f7d6d4c5-f718-4bd5-886e-9dbce46b14a8",
     "regions": {
      "44066b64-c04d-4b41-afba-c9d9c5103b86": {
       "attrs": {
        "height": 0.8,
        "width": 0.8,
        "x": 0.1,
        "y": 0.1
       },
       "content": {
        "cell": "29fce9a4-e192-488e-a24a-e339615b68c1",
        "part": "whole"
       },
       "id": "44066b64-c04d-4b41-afba-c9d9c5103b86"
      }
     }
    },
    "8af4880d-b773-4819-a3a7-20c3e747bd38": {
     "id": "8af4880d-b773-4819-a3a7-20c3e747bd38",
     "prev": "3945d6f7-bc6d-4e9b-865f-f8f513acaa65",
     "regions": {
      "073634e7-bf4f-432f-a7ce-78b7bff8768a": {
       "attrs": {
        "height": 0.8,
        "width": 0.8,
        "x": 0.1,
        "y": 0.1
       },
       "content": {
        "cell": "5759e1ec-75c1-48d7-a056-3674ab3e4f7d",
        "part": "whole"
       },
       "id": "073634e7-bf4f-432f-a7ce-78b7bff8768a"
      }
     }
    },
    "8e95450e-7c4d-4349-b203-df7f3f335f33": {
     "id": "8e95450e-7c4d-4349-b203-df7f3f335f33",
     "prev": "fb0452df-0a75-44a1-b887-5beb2d213ed9",
     "regions": {
      "ee77ca13-0bbc-49a2-a848-a71efd0adf84": {
       "attrs": {
        "height": 0.8,
        "width": 0.8,
        "x": 0.1,
        "y": 0.1
       },
       "content": {
        "cell": "c728a564-189f-4c98-8891-39170977a837",
        "part": "whole"
       },
       "id": "ee77ca13-0bbc-49a2-a848-a71efd0adf84"
      }
     }
    },
    "9ded5185-b8ba-4bd9-9fc7-a542f079d952": {
     "id": "9ded5185-b8ba-4bd9-9fc7-a542f079d952",
     "prev": "bacc3206-fdac-4afe-b401-62a6a67aecc3",
     "regions": {
      "2ea1639f-a94e-45fb-a2a7-a018b2ebe370": {
       "attrs": {
        "height": 0.8,
        "width": 0.8,
        "x": 0.1,
        "y": 0.1
       },
       "content": {
        "cell": "43e100ca-3a5e-4321-b30a-75ba56b43367",
        "part": "whole"
       },
       "id": "2ea1639f-a94e-45fb-a2a7-a018b2ebe370"
      }
     }
    },
    "9e0cd59b-974d-40e3-9833-2b4997889623": {
     "id": "9e0cd59b-974d-40e3-9833-2b4997889623",
     "prev": "f033fabf-ee38-4787-bd8c-e893d1ebdea7",
     "regions": {
      "eb776255-fd17-4c23-b21a-facb253ebf6b": {
       "attrs": {
        "height": 0.8,
        "width": 0.8,
        "x": 0.1,
        "y": 0.1
       },
       "content": {
        "cell": "287e983b-72a1-4613-afcc-c3c1ab61dd18",
        "part": "whole"
       },
       "id": "eb776255-fd17-4c23-b21a-facb253ebf6b"
      }
     }
    },
    "abd277d4-bebd-459a-83a0-f2c3e9f41bbe": {
     "id": "abd277d4-bebd-459a-83a0-f2c3e9f41bbe",
     "prev": "ffc5ae15-5827-409c-ae63-c56557c9f8dd",
     "regions": {
      "3ec88410-862e-480a-9cc9-2e1a4b01f6a0": {
       "attrs": {
        "height": 0.8,
        "width": 0.8,
        "x": 0.1,
        "y": 0.1
       },
       "content": {
        "cell": "2ed92466-3a5f-4aec-8cbf-017327c70bd8",
        "part": "whole"
       },
       "id": "3ec88410-862e-480a-9cc9-2e1a4b01f6a0"
      }
     }
    },
    "ae69a1c3-b34c-4834-a24d-9080490a066b": {
     "id": "ae69a1c3-b34c-4834-a24d-9080490a066b",
     "prev": "9ded5185-b8ba-4bd9-9fc7-a542f079d952",
     "regions": {
      "45f70f94-eaa8-43d6-baf8-b874c1c556bf": {
       "attrs": {
        "height": 0.8,
        "width": 0.8,
        "x": 0.1,
        "y": 0.1
       },
       "content": {
        "cell": "3841b030-0070-4827-b90e-1ddb0c7e3e74",
        "part": "whole"
       },
       "id": "45f70f94-eaa8-43d6-baf8-b874c1c556bf"
      }
     }
    },
    "b062e9fb-0f2e-42e6-924b-6bdaef937cfc": {
     "id": "b062e9fb-0f2e-42e6-924b-6bdaef937cfc",
     "prev": "26d299d9-0cb9-468a-a646-4c99648ef8f5",
     "regions": {
      "97edcfa2-8717-46b5-b3dc-bce48c24699b": {
       "attrs": {
        "height": 0.8,
        "width": 0.8,
        "x": 0.1,
        "y": 0.1
       },
       "content": {
        "cell": "86c5b979-5fef-43d7-a853-631dd7187b7a",
        "part": "whole"
       },
       "id": "97edcfa2-8717-46b5-b3dc-bce48c24699b"
      }
     }
    },
    "b678339e-95fa-4fb2-8fd9-64859f4a3003": {
     "id": "b678339e-95fa-4fb2-8fd9-64859f4a3003",
     "prev": "f1185057-baeb-4926-b4d4-ea490af4b375",
     "regions": {
      "01b5af79-5365-418f-a332-9447e1e4c8f7": {
       "attrs": {
        "height": 0.8,
        "width": 0.8,
        "x": 0.1,
        "y": 0.1
       },
       "content": {
        "cell": "285ab068-3282-460b-a021-01bc47b5f6a6",
        "part": "whole"
       },
       "id": "01b5af79-5365-418f-a332-9447e1e4c8f7"
      }
     }
    },
    "bacc3206-fdac-4afe-b401-62a6a67aecc3": {
     "id": "bacc3206-fdac-4afe-b401-62a6a67aecc3",
     "prev": "0af600d2-5e75-4ef0-9419-637561778a9b",
     "regions": {
      "a6ab8cbf-d7e3-43a6-a3e2-156953b5132f": {
       "attrs": {
        "height": 0.8,
        "width": 0.8,
        "x": 0.1,
        "y": 0.1
       },
       "content": {
        "cell": "03b78c78-a17e-4c7f-85e5-2f054ba3ac70",
        "part": "whole"
       },
       "id": "a6ab8cbf-d7e3-43a6-a3e2-156953b5132f"
      }
     }
    },
    "bb5a2ac7-d69b-472f-80f1-0b22b500d6b1": {
     "id": "bb5a2ac7-d69b-472f-80f1-0b22b500d6b1",
     "prev": "dcaae40e-bfa3-4b02-a07f-e60131d41001",
     "regions": {
      "d153cea3-4c0c-4d59-a0bc-3a1f34d2d533": {
       "attrs": {
        "height": 0.8,
        "width": 0.8,
        "x": 0.1,
        "y": 0.1
       },
       "content": {
        "cell": "525a9dc4-0bae-4e5c-ae1e-056dab928092",
        "part": "whole"
       },
       "id": "d153cea3-4c0c-4d59-a0bc-3a1f34d2d533"
      }
     }
    },
    "cd7f6e46-54bb-400e-8ed0-4b99dafbef7e": {
     "id": "cd7f6e46-54bb-400e-8ed0-4b99dafbef7e",
     "prev": "d591f5b2-3cfa-40e0-b6f9-23c7cf914341",
     "regions": {
      "baa53820-7b66-43be-bf4d-686011ba1a62": {
       "attrs": {
        "height": 0.8,
        "width": 0.8,
        "x": 0.1,
        "y": 0.1
       },
       "content": {
        "cell": "ca6c5d7d-72dc-46e7-b316-238ecbd2ef42",
        "part": "whole"
       },
       "id": "baa53820-7b66-43be-bf4d-686011ba1a62"
      }
     }
    },
    "cfe40159-360a-4ca6-b629-dcaf42ba6006": {
     "id": "cfe40159-360a-4ca6-b629-dcaf42ba6006",
     "prev": "68f9f3ab-a415-4fd2-9796-a2885e3ecd3d",
     "regions": {
      "85e81ff6-9bcf-4b34-8289-d88ad20b8e90": {
       "attrs": {
        "height": 0.8,
        "width": 0.8,
        "x": 0.1,
        "y": 0.1
       },
       "content": {
        "cell": "f975605e-50af-4b2b-b346-6987f9fdeb3b",
        "part": "whole"
       },
       "id": "85e81ff6-9bcf-4b34-8289-d88ad20b8e90"
      }
     }
    },
    "d1521f3d-2262-40a0-a5e1-88b0e16506e5": {
     "id": "d1521f3d-2262-40a0-a5e1-88b0e16506e5",
     "prev": "b678339e-95fa-4fb2-8fd9-64859f4a3003",
     "regions": {
      "28fe7bdc-bc30-46d8-877b-670ac3b83ff2": {
       "attrs": {
        "height": 0.8,
        "width": 0.8,
        "x": 0.1,
        "y": 0.1
       },
       "content": {
        "cell": "271e0508-27bd-465c-aeaf-9d93495cff5b",
        "part": "whole"
       },
       "id": "28fe7bdc-bc30-46d8-877b-670ac3b83ff2"
      }
     }
    },
    "d591f5b2-3cfa-40e0-b6f9-23c7cf914341": {
     "id": "d591f5b2-3cfa-40e0-b6f9-23c7cf914341",
     "prev": "30524962-33e0-442d-a166-8385e3539149",
     "regions": {
      "a168e527-9302-4cd1-a13f-08afa25e5339": {
       "attrs": {
        "height": 0.8,
        "width": 0.8,
        "x": 0.1,
        "y": 0.1
       },
       "content": {
        "cell": "daef9866-c944-44e5-9198-0a776e47aace",
        "part": "whole"
       },
       "id": "a168e527-9302-4cd1-a13f-08afa25e5339"
      }
     }
    },
    "d9efacc5-46f1-4913-bbbe-59aef63a7e5e": {
     "id": "d9efacc5-46f1-4913-bbbe-59aef63a7e5e",
     "prev": "34a1ce81-4b64-40a7-83e8-300aa2aedcc4",
     "regions": {
      "82e3f7de-35ec-4742-9b47-4d425012f8f7": {
       "attrs": {
        "height": 0.8,
        "width": 0.8,
        "x": 0.1,
        "y": 0.1
       },
       "content": {
        "cell": "a690eefb-2be1-47d9-a5b2-2b82ca73809d",
        "part": "whole"
       },
       "id": "82e3f7de-35ec-4742-9b47-4d425012f8f7"
      }
     }
    },
    "dcaae40e-bfa3-4b02-a07f-e60131d41001": {
     "id": "dcaae40e-bfa3-4b02-a07f-e60131d41001",
     "prev": "eaa81505-a8ce-4034-8700-57cf207c4352",
     "regions": {
      "81222eb2-e84c-47bc-a07c-b3624be55883": {
       "attrs": {
        "height": 0.8,
        "width": 0.8,
        "x": 0.1,
        "y": 0.1
       },
       "content": {
        "cell": "a455d904-3fbe-4a12-a1f2-1c8fa63e718c",
        "part": "whole"
       },
       "id": "81222eb2-e84c-47bc-a07c-b3624be55883"
      }
     }
    },
    "e6e8e485-1028-4ca0-a67c-bc4285cd900b": {
     "id": "e6e8e485-1028-4ca0-a67c-bc4285cd900b",
     "prev": "b062e9fb-0f2e-42e6-924b-6bdaef937cfc",
     "regions": {
      "6edab1db-2389-4635-92f4-7aede64288d3": {
       "attrs": {
        "height": 0.8,
        "width": 0.8,
        "x": 0.1,
        "y": 0.1
       },
       "content": {
        "cell": "5c058c4e-5fee-4eda-834f-a419aebedd07",
        "part": "whole"
       },
       "id": "6edab1db-2389-4635-92f4-7aede64288d3"
      }
     }
    },
    "eaa81505-a8ce-4034-8700-57cf207c4352": {
     "id": "eaa81505-a8ce-4034-8700-57cf207c4352",
     "prev": "1d02906a-e06a-4a1d-a0c0-988f2b6a3645",
     "regions": {
      "4f784b97-8fa0-4137-8e50-0b05f8077d8d": {
       "attrs": {
        "height": 0.8,
        "width": 0.8,
        "x": 0.1,
        "y": 0.1
       },
       "content": {
        "cell": "06d98302-00f8-4d79-9ad5-660d734a7684",
        "part": "whole"
       },
       "id": "4f784b97-8fa0-4137-8e50-0b05f8077d8d"
      }
     }
    },
    "f033fabf-ee38-4787-bd8c-e893d1ebdea7": {
     "id": "f033fabf-ee38-4787-bd8c-e893d1ebdea7",
     "prev": "e6e8e485-1028-4ca0-a67c-bc4285cd900b",
     "regions": {
      "03432ebd-e70f-4764-a43b-f2f47da59bb3": {
       "attrs": {
        "height": 0.8,
        "width": 0.8,
        "x": 0.1,
        "y": 0.1
       },
       "content": {
        "cell": "c636b122-4836-4ed4-aa4a-1738665b9b9a",
        "part": "whole"
       },
       "id": "03432ebd-e70f-4764-a43b-f2f47da59bb3"
      }
     }
    },
    "f1185057-baeb-4926-b4d4-ea490af4b375": {
     "id": "f1185057-baeb-4926-b4d4-ea490af4b375",
     "prev": "6f2a0112-3509-4daa-b075-857bf2579c21",
     "regions": {
      "7546ae18-835a-4616-9017-49c13dbbea8d": {
       "attrs": {
        "height": 0.8,
        "width": 0.8,
        "x": 0.1,
        "y": 0.1
       },
       "content": {
        "cell": "e2c6911d-d7b5-4bc5-b7b5-4aacf1f5e16c",
        "part": "whole"
       },
       "id": "7546ae18-835a-4616-9017-49c13dbbea8d"
      }
     }
    },
    "f7d6d4c5-f718-4bd5-886e-9dbce46b14a8": {
     "id": "f7d6d4c5-f718-4bd5-886e-9dbce46b14a8",
     "prev": "8e95450e-7c4d-4349-b203-df7f3f335f33",
     "regions": {
      "e44956c3-9cdc-4045-83dd-7da9fe20a43c": {
       "attrs": {
        "height": 0.8,
        "width": 0.8,
        "x": 0.1,
        "y": 0.1
       },
       "content": {
        "cell": "f9b7401d-d46c-46ec-88b4-20bfd0d52016",
        "part": "whole"
       },
       "id": "e44956c3-9cdc-4045-83dd-7da9fe20a43c"
      }
     }
    },
    "fb0452df-0a75-44a1-b887-5beb2d213ed9": {
     "id": "fb0452df-0a75-44a1-b887-5beb2d213ed9",
     "prev": "0625507a-b45b-4bd4-ae49-dc84776d0d12",
     "regions": {
      "992c8c35-a9cb-4413-a4ba-3866195ec8ba": {
       "attrs": {
        "height": 0.8,
        "width": 0.8,
        "x": 0.1,
        "y": 0.1
       },
       "content": {
        "cell": "55461985-ce0c-4d80-af16-83546fd567cb",
        "part": "whole"
       },
       "id": "992c8c35-a9cb-4413-a4ba-3866195ec8ba"
      }
     }
    },
    "ff5d273d-624d-4084-9245-d2e63d652d3f": {
     "id": "ff5d273d-624d-4084-9245-d2e63d652d3f",
     "prev": "cfe40159-360a-4ca6-b629-dcaf42ba6006",
     "regions": {
      "a9a6636b-9c15-4313-8fde-2f8c3b837054": {
       "attrs": {
        "height": 0.8,
        "width": 0.8,
        "x": 0.1,
        "y": 0.1
       },
       "content": {
        "cell": "7367c126-acad-4115-81e5-f7db8d2b275c",
        "part": "whole"
       },
       "id": "a9a6636b-9c15-4313-8fde-2f8c3b837054"
      }
     }
    },
    "ffc5ae15-5827-409c-ae63-c56557c9f8dd": {
     "id": "ffc5ae15-5827-409c-ae63-c56557c9f8dd",
     "prev": "6754d1c7-53db-4045-9401-7322a90ae611",
     "regions": {
      "c474b573-fef0-4545-9909-3d8e47305551": {
       "attrs": {
        "height": 0.8,
        "width": 0.8,
        "x": 0.1,
        "y": 0.1
       },
       "content": {
        "cell": "3c2bc7e4-65f8-43a1-94e9-c57c82218d19",
        "part": "whole"
       },
       "id": "c474b573-fef0-4545-9909-3d8e47305551"
      }
     }
    }
   },
   "themes": {
    "default": "9e30d733-5ce5-4311-b8b1-ce05a7bc4772",
    "theme": {
     "9e30d733-5ce5-4311-b8b1-ce05a7bc4772": {
      "id": "9e30d733-5ce5-4311-b8b1-ce05a7bc4772",
      "palette": {
       "19cc588f-0593-49c9-9f4b-e4d7cc113b1c": {
        "id": "19cc588f-0593-49c9-9f4b-e4d7cc113b1c",
        "rgb": [
         252,
         252,
         252
        ]
       },
       "31af15d2-7e15-44c5-ab5e-e04b16a89eff": {
        "id": "31af15d2-7e15-44c5-ab5e-e04b16a89eff",
        "rgb": [
         68,
         68,
         68
        ]
       },
       "50f92c45-a630-455b-aec3-788680ec7410": {
        "id": "50f92c45-a630-455b-aec3-788680ec7410",
        "rgb": [
         155,
         177,
         192
        ]
       },
       "c5cc3653-2ee1-402a-aba2-7caae1da4f6c": {
        "id": "c5cc3653-2ee1-402a-aba2-7caae1da4f6c",
        "rgb": [
         43,
         126,
         184
        ]
       },
       "efa7f048-9acb-414c-8b04-a26811511a21": {
        "id": "efa7f048-9acb-414c-8b04-a26811511a21",
        "rgb": [
         25.118061674008803,
         73.60176211453744,
         107.4819383259912
        ]
       }
      },
      "rules": {
       "blockquote": {
        "color": "50f92c45-a630-455b-aec3-788680ec7410"
       },
       "code": {
        "font-family": "Anonymous Pro"
       },
       "h1": {
        "color": "c5cc3653-2ee1-402a-aba2-7caae1da4f6c",
        "font-family": "Lato",
        "font-size": 8
       },
       "h2": {
        "color": "c5cc3653-2ee1-402a-aba2-7caae1da4f6c",
        "font-family": "Lato",
        "font-size": 6
       },
       "h3": {
        "color": "50f92c45-a630-455b-aec3-788680ec7410",
        "font-family": "Lato",
        "font-size": 5.5
       },
       "h4": {
        "color": "c5cc3653-2ee1-402a-aba2-7caae1da4f6c",
        "font-family": "Lato",
        "font-size": 5
       },
       "h5": {
        "font-family": "Lato"
       },
       "h6": {
        "font-family": "Lato"
       },
       "h7": {
        "font-family": "Lato"
       },
       "pre": {
        "font-family": "Anonymous Pro",
        "font-size": 4
       }
      },
      "text-base": {
       "font-family": "Merriweather",
       "font-size": 4
      }
     }
    }
   }
  }
 },
 "nbformat": 4,
 "nbformat_minor": 1
}
